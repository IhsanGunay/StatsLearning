{
 "cells": [
  {
   "cell_type": "markdown",
   "metadata": {},
   "source": [
    "# Handmade SVM Implementation"
   ]
  },
  {
   "cell_type": "code",
   "execution_count": 1,
   "metadata": {
    "collapsed": true
   },
   "outputs": [],
   "source": [
    "%matplotlib inline\n",
    "import numpy as np\n",
    "import matplotlib.pyplot as plt\n",
    "from sklearn.datasets import load_iris\n",
    "from robsvm import robsvm\n",
    "from cvxopt import matrix, normal"
   ]
  },
  {
   "cell_type": "markdown",
   "metadata": {},
   "source": [
    "## Functions"
   ]
  },
  {
   "cell_type": "code",
   "execution_count": 6,
   "metadata": {
    "collapsed": false
   },
   "outputs": [],
   "source": [
    "def find_weights(X, y):\n",
    "    \"\"\"\n",
    "        Solves the following robust SVM training problem:\n",
    "\n",
    "           minimize    (1/2) w'*w + gamma*sum(v)\n",
    "           subject to  diag(d)*(X*w + b*1) >= 1 - v + E*u\n",
    "                       || S_j*w ||_2 <= u_j,  j = 1...t\n",
    "                       v >= 0\n",
    "\n",
    "        The variables are w, b, v, and u. The matrix E is a selector\n",
    "        matrix with zeros and one '1' per row.  E_ij = 1 means that the\n",
    "        i'th training vector is associated with the j'th uncertainty\n",
    "        ellipsoid.\n",
    "\n",
    "        A custom KKT solver that exploits low-rank structure is used, and\n",
    "        a positive definite system of equations of order n is\n",
    "        formed and solved at each iteration.\n",
    "    \"\"\"\n",
    "    m, n = X.shape\n",
    "    gamma = 0.7\n",
    "    \n",
    "    d = matrix(y, (m,1))\n",
    "    X = matrix(X)\n",
    "    \n",
    "    # generate uncertainty ellipsoids\n",
    "    k = 2\n",
    "    P = [0.1*normal(4*n,n) for i in range(k)]\n",
    "    P = [ p.T*p for p in P]\n",
    "    \n",
    "    e = matrix(0,(m,1))\n",
    "    for i in range(m):\n",
    "        if d[i] == 1:\n",
    "            e[i] = 1\n",
    "\n",
    "            \n",
    "    # solve SVM training problem\n",
    "    w, b, u, v, iterations = robsvm(X, d, gamma, P, e)\n",
    "\n",
    "    return w, b\n",
    "\n",
    "    \n",
    "def predict(X, W, bias):\n",
    "    weights = W[:2]\n",
    "    predictions = np.dot(X, weights) + bias\n",
    "    predictions[predictions > 0] = 1\n",
    "    predictions[predictions < 0] = -1\n",
    "    \n",
    "    return predictions "
   ]
  },
  {
   "cell_type": "markdown",
   "metadata": {},
   "source": [
    "## Load the dataset"
   ]
  },
  {
   "cell_type": "code",
   "execution_count": 3,
   "metadata": {
    "collapsed": false
   },
   "outputs": [],
   "source": [
    "iris = load_iris()\n",
    "X = iris.data[:100] #First two features\n",
    "y = iris.target[:100]\n",
    "y[y<1] = -1"
   ]
  },
  {
   "cell_type": "markdown",
   "metadata": {},
   "source": [
    "## Train SVM"
   ]
  },
  {
   "cell_type": "code",
   "execution_count": 7,
   "metadata": {
    "collapsed": false,
    "scrolled": false
   },
   "outputs": [
    {
     "name": "stdout",
     "output_type": "stream",
     "text": [
      "     pcost       dcost       gap    pres   dres\n",
      " 0: -4.7576e+01  8.7014e+01  5e+02  3e+00  3e+01\n",
      " 1:  3.3573e+01 -2.4040e+01  8e+01  3e-01  3e+00\n",
      " 2:  6.2750e+00 -2.0763e+00  1e+01  3e-02  3e-01\n",
      " 3:  1.6941e+00  3.3787e-01  2e+00  4e-03  4e-02\n",
      " 4:  1.2770e+00  5.9928e-01  8e-01  2e-03  2e-02\n",
      " 5:  1.1345e+00  7.8081e-01  4e-01  1e-05  1e-04\n",
      " 6:  1.0019e+00  8.7532e-01  1e-01  2e-06  2e-05\n",
      " 7:  9.4738e-01  9.1018e-01  4e-02  4e-16  5e-16\n",
      " 8:  9.2746e-01  9.2579e-01  2e-03  5e-16  5e-16\n",
      " 9:  9.2662e-01  9.2658e-01  4e-05  6e-16  5e-16\n",
      "10:  9.2660e-01  9.2660e-01  5e-07  2e-15  1e-14\n",
      "Optimal solution found.\n"
     ]
    }
   ],
   "source": [
    "weights, bias = find_weights(X, y)"
   ]
  },
  {
   "cell_type": "markdown",
   "metadata": {},
   "source": [
    "## Visualizations"
   ]
  },
  {
   "cell_type": "code",
   "execution_count": 10,
   "metadata": {
    "collapsed": false
   },
   "outputs": [
    {
     "data": {
      "image/png": "[encoded data removed]",
      "text/plain": [
       "<matplotlib.figure.Figure at 0x7f77fff89b38>"
      ]
     },
     "metadata": {},
     "output_type": "display_data"
    }
   ],
   "source": [
    "h = .02\n",
    "\n",
    "x_min, x_max = X[:, 0].min() - 1, X[:, 0].max() + 1\n",
    "y_min, y_max = X[:, 1].min() - 1, X[:, 1].max() + 1\n",
    "xx, yy = np.meshgrid(np.arange(x_min, x_max, h),\n",
    "                     np.arange(y_min, y_max, h))\n",
    "\n",
    "Z = predict(np.c_[xx.ravel(), yy.ravel()], weights, bias)\n",
    "\n",
    "# Put the result into a color plot\n",
    "Z = Z.reshape(xx.shape)\n",
    "plt.contourf(xx, yy, Z, cmap=plt.cm.Paired, alpha=0.8)\n",
    "\n",
    "# Plot also the training points\n",
    "plt.scatter(X[:, 0], X[:, 1], c=y, cmap=plt.cm.Paired)\n",
    "plt.xlabel('Sepal length')\n",
    "plt.ylabel('Sepal width')\n",
    "plt.xlim(xx.min(), xx.max())\n",
    "plt.ylim(yy.min(), yy.max())\n",
    "plt.xticks(())\n",
    "plt.yticks(())\n",
    "plt.title('Handmade SVM')\n",
    "\n",
    "plt.show()"
   ]
  },
  {
   "cell_type": "markdown",
   "metadata": {},
   "source": [
    "For some reason, it is classifying everything red. I couldn't figure out why."
   ]
  }
 ],
 "metadata": {
  "kernelspec": {
   "display_name": "Python 3",
   "language": "python",
   "name": "python3"
  },
  "language_info": {
   "codemirror_mode": {
    "name": "ipython",
    "version": 3
   },
   "file_extension": ".py",
   "mimetype": "text/x-python",
   "name": "python",
   "nbconvert_exporter": "python",
   "pygments_lexer": "ipython3",
   "version": "3.5.2"
  }
 },
 "nbformat": 4,
 "nbformat_minor": 1
}
