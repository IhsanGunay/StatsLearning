{
 "cells": [
  {
   "cell_type": "code",
   "execution_count": 98,
   "metadata": {
    "collapsed": false
   },
   "outputs": [],
   "source": [
    "from sklearn.svm import SVC\n",
    "from sklearn.feature_selection import SelectKBest, SelectFwe, f_classif, mutual_info_classif\n",
    "from sklearn.model_selection import StratifiedKFold, ParameterGrid, GridSearchCV\n",
    "from sklearn.decomposition import PCA\n",
    "from sklearn.metrics import roc_auc_score, make_scorer\n",
    "import pandas as pd\n",
    "import numpy as np"
   ]
  },
  {
   "cell_type": "code",
   "execution_count": 2,
   "metadata": {
    "collapsed": true
   },
   "outputs": [],
   "source": [
    "X_train = np.array(pd.read_csv('train.csv', header=None)) #load the dataset\n",
    "y_train = np.array(pd.read_csv('trainlabels.csv', header=None)).reshape(51147)\n",
    "X_test = np.array(pd.read_csv('test.csv', header=None))"
   ]
  },
  {
   "cell_type": "code",
   "execution_count": 112,
   "metadata": {
    "collapsed": false
   },
   "outputs": [],
   "source": [
    "pinds = np.where(y_train == 1)[0] # indiceds for classes\n",
    "ninds = np.where(y_train == 0)[0]\n",
    "np.random.shuffle(ninds)\n",
    "ninds = ninds[:1000]\n",
    "x = np.vstack((X_train[pinds], X_train[ninds]))\n",
    "y = np.append(y_train[pinds], y_train[ninds])"
   ]
  },
  {
   "cell_type": "code",
   "execution_count": 4,
   "metadata": {
    "collapsed": false
   },
   "outputs": [],
   "source": [
    "train_inds, val_inds = next(StratifiedKFold(n_splits=10, shuffle=True).split(X_train, y_train))\n",
    "\n",
    "X_val, y_val = X_train[val_inds], y_train[val_inds]\n",
    "X_train, y_train = X_train[train_inds], y_train[train_inds]"
   ]
  },
  {
   "cell_type": "code",
   "execution_count": 3,
   "metadata": {
    "collapsed": false
   },
   "outputs": [
    {
     "data": {
      "text/plain": [
       "(51147, 117)"
      ]
     },
     "execution_count": 3,
     "metadata": {},
     "output_type": "execute_result"
    }
   ],
   "source": [
    "X_train.shape"
   ]
  },
  {
   "cell_type": "code",
   "execution_count": 116,
   "metadata": {
    "collapsed": false,
    "scrolled": true
   },
   "outputs": [],
   "source": [
    "minfos = mutual_info_classif(x,y)"
   ]
  },
  {
   "cell_type": "code",
   "execution_count": 126,
   "metadata": {
    "collapsed": false
   },
   "outputs": [
    {
     "data": {
      "text/plain": [
       "0.23671708120937307"
      ]
     },
     "execution_count": 126,
     "metadata": {},
     "output_type": "execute_result"
    }
   ],
   "source": [
    "minfos.argsort()[-50:]"
   ]
  },
  {
   "cell_type": "code",
   "execution_count": 123,
   "metadata": {
    "collapsed": false
   },
   "outputs": [
    {
     "data": {
      "text/plain": [
       "(1400, 82)"
      ]
     },
     "execution_count": 123,
     "metadata": {},
     "output_type": "execute_result"
    }
   ],
   "source": [
    "a = SelectFwe(f_classif, 0.05)\n",
    "x2 = a.fit_transform(x,y)\n",
    "x2.shape"
   ]
  },
  {
   "cell_type": "code",
   "execution_count": 128,
   "metadata": {
    "collapsed": false
   },
   "outputs": [
    {
     "data": {
      "text/plain": [
       "(1400, 50)"
      ]
     },
     "execution_count": 128,
     "metadata": {},
     "output_type": "execute_result"
    }
   ],
   "source": [
    "minds = minfos.argsort()[-50:]\n",
    "x3 = x[:, minds]\n",
    "x3.shape"
   ]
  },
  {
   "cell_type": "code",
   "execution_count": 131,
   "metadata": {
    "collapsed": false
   },
   "outputs": [],
   "source": [
    "pca = PCA(n_components=30)\n",
    "x = pca.fit_transform(x3)"
   ]
  },
  {
   "cell_type": "code",
   "execution_count": 132,
   "metadata": {
    "collapsed": false
   },
   "outputs": [
    {
     "data": {
      "text/plain": [
       "0.99525682859808473"
      ]
     },
     "execution_count": 132,
     "metadata": {},
     "output_type": "execute_result"
    }
   ],
   "source": [
    "pca.explained_variance_ratio_.sum()"
   ]
  },
  {
   "cell_type": "markdown",
   "metadata": {},
   "source": [
    "X: uncorrelated X_train: 0.74\n",
    "\n",
    "X2: top 50 mi values of X: 0.81\n",
    "\n",
    "X3: top 30 mi values of X: 0.87\n",
    "\n",
    "X4: top 20 mi values of X: 0.80\n",
    "\n",
    "X5: 20 pca on x4: 0.90, 0.74\n",
    "\n",
    "X6: 30 pca on top 50 mi of reduced x: 0.889"
   ]
  },
  {
   "cell_type": "code",
   "execution_count": 133,
   "metadata": {
    "collapsed": false,
    "scrolled": true
   },
   "outputs": [],
   "source": [
    "c = 10 ** np.arange(-3, 3).astype('float')\n",
    "g = 10 ** np.arange(-3, 3).astype('float')\n",
    "#params = ParameterGrid({'C':c, 'gamma':g})\n",
    "params = {'C':c, 'gamma':g}"
   ]
  },
  {
   "cell_type": "code",
   "execution_count": 134,
   "metadata": {
    "collapsed": false
   },
   "outputs": [],
   "source": [
    "auc = make_scorer(roc_auc_score, greater_is_better=True, needs_threshold=True) \n",
    "svm = SVC(probability=True, class_weight='balanced', cache_size=1000)"
   ]
  },
  {
   "cell_type": "code",
   "execution_count": 138,
   "metadata": {
    "collapsed": false
   },
   "outputs": [],
   "source": [
    "clf = GridSearchCV(svm, params, scoring=auc)"
   ]
  },
  {
   "cell_type": "code",
   "execution_count": 139,
   "metadata": {
    "collapsed": false
   },
   "outputs": [
    {
     "data": {
      "text/plain": [
       "GridSearchCV(cv=None, error_score='raise',\n",
       "       estimator=SVC(C=1.0, cache_size=1000, class_weight='balanced', coef0=0.0,\n",
       "  decision_function_shape=None, degree=3, gamma='auto', kernel='rbf',\n",
       "  max_iter=-1, probability=True, random_state=None, shrinking=True,\n",
       "  tol=0.001, verbose=False),\n",
       "       fit_params={}, iid=True, n_jobs=1,\n",
       "       param_grid={'C': array([  1.00000e-03,   1.00000e-02,   1.00000e-01,   1.00000e+00,\n",
       "         1.00000e+01,   1.00000e+02]), 'gamma': array([  1.00000e-03,   1.00000e-02,   1.00000e-01,   1.00000e+00,\n",
       "         1.00000e+01,   1.00000e+02])},\n",
       "       pre_dispatch='2*n_jobs', refit=True, return_train_score=True,\n",
       "       scoring=make_scorer(roc_auc_score, needs_threshold=True), verbose=0)"
      ]
     },
     "execution_count": 139,
     "metadata": {},
     "output_type": "execute_result"
    }
   ],
   "source": [
    "clf.fit(x, y)"
   ]
  },
  {
   "cell_type": "code",
   "execution_count": 143,
   "metadata": {
    "collapsed": false,
    "scrolled": false
   },
   "outputs": [
    {
     "data": {
      "text/plain": [
       "mean_fit_time          0.440193\n",
       "mean_score_time        0.029438\n",
       "mean_test_score        0.925692\n",
       "mean_train_score       1.000000\n",
       "rank_test_score       31.000000\n",
       "split0_test_score      0.942488\n",
       "split0_train_score     1.000000\n",
       "split1_test_score      0.941588\n",
       "split1_train_score     1.000000\n",
       "split2_test_score      0.920454\n",
       "split2_train_score     1.000000\n",
       "std_fit_time           0.022838\n",
       "std_score_time         0.004346\n",
       "std_test_score         0.022124\n",
       "std_train_score        0.007979\n",
       "dtype: float64"
      ]
     },
     "execution_count": 143,
     "metadata": {},
     "output_type": "execute_result"
    }
   ],
   "source": [
    "pd.DataFrame(clf.cv_results_).max()"
   ]
  },
  {
   "cell_type": "code",
   "execution_count": 149,
   "metadata": {
    "collapsed": false
   },
   "outputs": [],
   "source": [
    "preds = pd.DataFrame(clf.decision_function(xt))"
   ]
  },
  {
   "cell_type": "code",
   "execution_count": 151,
   "metadata": {
    "collapsed": false,
    "scrolled": true
   },
   "outputs": [],
   "source": [
    "preds.index += 1\n",
    "preds.columns = ['Prediction']\n",
    "preds.to_csv('out.csv')"
   ]
  },
  {
   "cell_type": "code",
   "execution_count": 147,
   "metadata": {
    "collapsed": false
   },
   "outputs": [],
   "source": [
    "xt = pca.transform(X_test[:,minds])"
   ]
  },
  {
   "cell_type": "code",
   "execution_count": 40,
   "metadata": {
    "collapsed": false,
    "scrolled": true
   },
   "outputs": [],
   "source": [
    "probs = clf.predict_log_proba(xt)[:,1]\n",
    "#roc_auc_score(y_val, probs)"
   ]
  },
  {
   "cell_type": "code",
   "execution_count": 41,
   "metadata": {
    "collapsed": false,
    "scrolled": true
   },
   "outputs": [
    {
     "data": {
      "text/html": [
       "<div>\n",
       "<table border=\"1\" class=\"dataframe\">\n",
       "  <thead>\n",
       "    <tr style=\"text-align: right;\">\n",
       "      <th></th>\n",
       "      <th>Prediction</th>\n",
       "    </tr>\n",
       "  </thead>\n",
       "  <tbody>\n",
       "    <tr>\n",
       "      <th>1</th>\n",
       "      <td>-5.209228</td>\n",
       "    </tr>\n",
       "    <tr>\n",
       "      <th>2</th>\n",
       "      <td>-5.536764</td>\n",
       "    </tr>\n",
       "    <tr>\n",
       "      <th>3</th>\n",
       "      <td>-4.879517</td>\n",
       "    </tr>\n",
       "    <tr>\n",
       "      <th>4</th>\n",
       "      <td>-5.544248</td>\n",
       "    </tr>\n",
       "    <tr>\n",
       "      <th>5</th>\n",
       "      <td>-5.755104</td>\n",
       "    </tr>\n",
       "    <tr>\n",
       "      <th>6</th>\n",
       "      <td>-6.241813</td>\n",
       "    </tr>\n",
       "    <tr>\n",
       "      <th>7</th>\n",
       "      <td>-6.111410</td>\n",
       "    </tr>\n",
       "    <tr>\n",
       "      <th>8</th>\n",
       "      <td>-5.164875</td>\n",
       "    </tr>\n",
       "    <tr>\n",
       "      <th>9</th>\n",
       "      <td>-6.054682</td>\n",
       "    </tr>\n",
       "    <tr>\n",
       "      <th>10</th>\n",
       "      <td>-5.314105</td>\n",
       "    </tr>\n",
       "    <tr>\n",
       "      <th>11</th>\n",
       "      <td>-4.980661</td>\n",
       "    </tr>\n",
       "    <tr>\n",
       "      <th>12</th>\n",
       "      <td>-5.209959</td>\n",
       "    </tr>\n",
       "    <tr>\n",
       "      <th>13</th>\n",
       "      <td>-5.310169</td>\n",
       "    </tr>\n",
       "    <tr>\n",
       "      <th>14</th>\n",
       "      <td>-5.346220</td>\n",
       "    </tr>\n",
       "    <tr>\n",
       "      <th>15</th>\n",
       "      <td>-5.703843</td>\n",
       "    </tr>\n",
       "    <tr>\n",
       "      <th>16</th>\n",
       "      <td>-6.934944</td>\n",
       "    </tr>\n",
       "    <tr>\n",
       "      <th>17</th>\n",
       "      <td>-5.284851</td>\n",
       "    </tr>\n",
       "    <tr>\n",
       "      <th>18</th>\n",
       "      <td>-5.266579</td>\n",
       "    </tr>\n",
       "    <tr>\n",
       "      <th>19</th>\n",
       "      <td>-5.440937</td>\n",
       "    </tr>\n",
       "    <tr>\n",
       "      <th>20</th>\n",
       "      <td>-5.510328</td>\n",
       "    </tr>\n",
       "    <tr>\n",
       "      <th>21</th>\n",
       "      <td>-5.211436</td>\n",
       "    </tr>\n",
       "    <tr>\n",
       "      <th>22</th>\n",
       "      <td>-5.216904</td>\n",
       "    </tr>\n",
       "    <tr>\n",
       "      <th>23</th>\n",
       "      <td>-5.507730</td>\n",
       "    </tr>\n",
       "    <tr>\n",
       "      <th>24</th>\n",
       "      <td>-5.560698</td>\n",
       "    </tr>\n",
       "    <tr>\n",
       "      <th>25</th>\n",
       "      <td>-5.657695</td>\n",
       "    </tr>\n",
       "    <tr>\n",
       "      <th>26</th>\n",
       "      <td>-4.939230</td>\n",
       "    </tr>\n",
       "    <tr>\n",
       "      <th>27</th>\n",
       "      <td>-5.159534</td>\n",
       "    </tr>\n",
       "    <tr>\n",
       "      <th>28</th>\n",
       "      <td>-5.139979</td>\n",
       "    </tr>\n",
       "    <tr>\n",
       "      <th>29</th>\n",
       "      <td>-5.354096</td>\n",
       "    </tr>\n",
       "    <tr>\n",
       "      <th>30</th>\n",
       "      <td>-5.209870</td>\n",
       "    </tr>\n",
       "    <tr>\n",
       "      <th>...</th>\n",
       "      <td>...</td>\n",
       "    </tr>\n",
       "    <tr>\n",
       "      <th>51118</th>\n",
       "      <td>-4.812246</td>\n",
       "    </tr>\n",
       "    <tr>\n",
       "      <th>51119</th>\n",
       "      <td>-4.698357</td>\n",
       "    </tr>\n",
       "    <tr>\n",
       "      <th>51120</th>\n",
       "      <td>-4.910995</td>\n",
       "    </tr>\n",
       "    <tr>\n",
       "      <th>51121</th>\n",
       "      <td>-4.609791</td>\n",
       "    </tr>\n",
       "    <tr>\n",
       "      <th>51122</th>\n",
       "      <td>-4.756844</td>\n",
       "    </tr>\n",
       "    <tr>\n",
       "      <th>51123</th>\n",
       "      <td>-4.558877</td>\n",
       "    </tr>\n",
       "    <tr>\n",
       "      <th>51124</th>\n",
       "      <td>-3.598718</td>\n",
       "    </tr>\n",
       "    <tr>\n",
       "      <th>51125</th>\n",
       "      <td>-4.919057</td>\n",
       "    </tr>\n",
       "    <tr>\n",
       "      <th>51126</th>\n",
       "      <td>-4.903989</td>\n",
       "    </tr>\n",
       "    <tr>\n",
       "      <th>51127</th>\n",
       "      <td>-4.368434</td>\n",
       "    </tr>\n",
       "    <tr>\n",
       "      <th>51128</th>\n",
       "      <td>-0.915203</td>\n",
       "    </tr>\n",
       "    <tr>\n",
       "      <th>51129</th>\n",
       "      <td>-4.930400</td>\n",
       "    </tr>\n",
       "    <tr>\n",
       "      <th>51130</th>\n",
       "      <td>-5.019223</td>\n",
       "    </tr>\n",
       "    <tr>\n",
       "      <th>51131</th>\n",
       "      <td>-4.910430</td>\n",
       "    </tr>\n",
       "    <tr>\n",
       "      <th>51132</th>\n",
       "      <td>-5.006626</td>\n",
       "    </tr>\n",
       "    <tr>\n",
       "      <th>51133</th>\n",
       "      <td>-4.718305</td>\n",
       "    </tr>\n",
       "    <tr>\n",
       "      <th>51134</th>\n",
       "      <td>-5.272349</td>\n",
       "    </tr>\n",
       "    <tr>\n",
       "      <th>51135</th>\n",
       "      <td>-5.496584</td>\n",
       "    </tr>\n",
       "    <tr>\n",
       "      <th>51136</th>\n",
       "      <td>-5.016233</td>\n",
       "    </tr>\n",
       "    <tr>\n",
       "      <th>51137</th>\n",
       "      <td>-4.726311</td>\n",
       "    </tr>\n",
       "    <tr>\n",
       "      <th>51138</th>\n",
       "      <td>-4.862332</td>\n",
       "    </tr>\n",
       "    <tr>\n",
       "      <th>51139</th>\n",
       "      <td>-5.099752</td>\n",
       "    </tr>\n",
       "    <tr>\n",
       "      <th>51140</th>\n",
       "      <td>-4.701634</td>\n",
       "    </tr>\n",
       "    <tr>\n",
       "      <th>51141</th>\n",
       "      <td>-4.329060</td>\n",
       "    </tr>\n",
       "    <tr>\n",
       "      <th>51142</th>\n",
       "      <td>-4.634290</td>\n",
       "    </tr>\n",
       "    <tr>\n",
       "      <th>51143</th>\n",
       "      <td>-4.719051</td>\n",
       "    </tr>\n",
       "    <tr>\n",
       "      <th>51144</th>\n",
       "      <td>-5.105202</td>\n",
       "    </tr>\n",
       "    <tr>\n",
       "      <th>51145</th>\n",
       "      <td>-5.094698</td>\n",
       "    </tr>\n",
       "    <tr>\n",
       "      <th>51146</th>\n",
       "      <td>-4.910320</td>\n",
       "    </tr>\n",
       "    <tr>\n",
       "      <th>51147</th>\n",
       "      <td>-5.005989</td>\n",
       "    </tr>\n",
       "  </tbody>\n",
       "</table>\n",
       "<p>51147 rows × 1 columns</p>\n",
       "</div>"
      ],
      "text/plain": [
       "       Prediction\n",
       "1       -5.209228\n",
       "2       -5.536764\n",
       "3       -4.879517\n",
       "4       -5.544248\n",
       "5       -5.755104\n",
       "6       -6.241813\n",
       "7       -6.111410\n",
       "8       -5.164875\n",
       "9       -6.054682\n",
       "10      -5.314105\n",
       "11      -4.980661\n",
       "12      -5.209959\n",
       "13      -5.310169\n",
       "14      -5.346220\n",
       "15      -5.703843\n",
       "16      -6.934944\n",
       "17      -5.284851\n",
       "18      -5.266579\n",
       "19      -5.440937\n",
       "20      -5.510328\n",
       "21      -5.211436\n",
       "22      -5.216904\n",
       "23      -5.507730\n",
       "24      -5.560698\n",
       "25      -5.657695\n",
       "26      -4.939230\n",
       "27      -5.159534\n",
       "28      -5.139979\n",
       "29      -5.354096\n",
       "30      -5.209870\n",
       "...           ...\n",
       "51118   -4.812246\n",
       "51119   -4.698357\n",
       "51120   -4.910995\n",
       "51121   -4.609791\n",
       "51122   -4.756844\n",
       "51123   -4.558877\n",
       "51124   -3.598718\n",
       "51125   -4.919057\n",
       "51126   -4.903989\n",
       "51127   -4.368434\n",
       "51128   -0.915203\n",
       "51129   -4.930400\n",
       "51130   -5.019223\n",
       "51131   -4.910430\n",
       "51132   -5.006626\n",
       "51133   -4.718305\n",
       "51134   -5.272349\n",
       "51135   -5.496584\n",
       "51136   -5.016233\n",
       "51137   -4.726311\n",
       "51138   -4.862332\n",
       "51139   -5.099752\n",
       "51140   -4.701634\n",
       "51141   -4.329060\n",
       "51142   -4.634290\n",
       "51143   -4.719051\n",
       "51144   -5.105202\n",
       "51145   -5.094698\n",
       "51146   -4.910320\n",
       "51147   -5.005989\n",
       "\n",
       "[51147 rows x 1 columns]"
      ]
     },
     "execution_count": 41,
     "metadata": {},
     "output_type": "execute_result"
    }
   ],
   "source": [
    "probs = pd.DataFrame(probs)\n",
    "probs.index.name = 'Id'\n",
    "probs.index += 1\n",
    "probs.columns = ['Prediction']\n",
    "probs.to_csv('out.csv')\n",
    "probs"
   ]
  }
 ],
 "metadata": {
  "anaconda-cloud": {},
  "kernelspec": {
   "display_name": "Python [default]",
   "language": "python",
   "name": "python3"
  },
  "language_info": {
   "codemirror_mode": {
    "name": "ipython",
    "version": 3
   },
   "file_extension": ".py",
   "mimetype": "text/x-python",
   "name": "python",
   "nbconvert_exporter": "python",
   "pygments_lexer": "ipython3",
   "version": "3.5.2"
  }
 },
 "nbformat": 4,
 "nbformat_minor": 1
}
