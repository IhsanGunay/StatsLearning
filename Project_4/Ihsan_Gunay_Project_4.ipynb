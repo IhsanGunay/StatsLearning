{
 "cells": [
  {
   "cell_type": "code",
   "execution_count": 13,
   "metadata": {
    "collapsed": false
   },
   "outputs": [],
   "source": [
    "from sklearn.svm import SVC\n",
    "from sklearn.linear_model import LinearRegression\n",
    "from sklearn.feature_selection import SelectKBest, SelectFwe, f_classif, mutual_info_classif\n",
    "from sklearn.model_selection import StratifiedKFold\n",
    "from sklearn.metrics import roc_auc_score, make_scorer\n",
    "from sklearn.decomposition import PCA\n",
    "from concurrent.futures import ProcessPoolExecutor\n",
    "import pandas as pd\n",
    "import numpy as np\n",
    "import warnings"
   ]
  },
  {
   "cell_type": "code",
   "execution_count": 40,
   "metadata": {
    "collapsed": true
   },
   "outputs": [],
   "source": [
    "def produce_modifications(X_train, y_train, train_indices, target_indices, X_val, y_val_na):\n",
    "    for i in target_indices:\n",
    "\n",
    "        if i in train_indices:\n",
    "            mod0 = np.copy(y_train)\n",
    "            mod0[i] = 1 - mod0[i]\n",
    "            yield X_train, mod0, train_indices, X_val, y_val_na\n",
    "\n",
    "            mod1 = list(train_indices)\n",
    "            mod1.remove(i)\n",
    "            yield X_train, y_train, mod1, X_val, y_val_na\n",
    "\n",
    "        else:\n",
    "            mod0 = list(train_indices)\n",
    "            mod0.append(i)\n",
    "            yield X_train, y_train, mod0, X_val, y_val_na\n",
    "\n",
    "            mod1 = np.copy(y_train)\n",
    "            mod1[i] = 1 - mod1[i]\n",
    "            yield X_train, mod1, mod0, X_val, y_val_na\n",
    "\n",
    "def test_modification(test):\n",
    "    X_train, y_train, train_indices, X_val, y_val_na = test\n",
    "    \n",
    "    clf = LinearRegression(copy_X=True)\n",
    "    clf.fit(X_train[train_indices],y_train[train_indices])\n",
    "    new_error = clf.residues_\n",
    "    \n",
    "    return new_error, y_train, train_indices\n",
    "\n",
    "def ce_squared(T, probs):\n",
    "    return ((T*probs)**2).sum()/len(probs)\n",
    "\n",
    "def process_dataset(X_train, y_train, X_test):\n",
    "    # Select top 50 features for mutual info with y\n",
    "    minfos = mutual_info_classif(X_train, y_train) \n",
    "    minds = minfos.argsort()[-50:]\n",
    "    X_train = X_train[:, minds]\n",
    "    \n",
    "    # Map it down to 30 dims while preserving ~99% of variance\n",
    "    pca = PCA(n_components=30) \n",
    "    X_train = pca.fit_transform(X_train)\n",
    "    \n",
    "    # Transform X_test\n",
    "    X_test = pca.transform(X_test[:,minds])\n",
    "    np.random.shuffle(X_test)\n",
    "    \n",
    "    # Undersample & seperate a validation set\n",
    "    pinds = np.where(y_train == 1)[0] \n",
    "    ninds = np.where(y_train == 0)[0]\n",
    "    \n",
    "    np.random.shuffle(ninds)\n",
    "    \n",
    "    train_ninds = ninds[:500]\n",
    "    val_ninds = ninds[-300:]\n",
    "    \n",
    "    train_pinds = pinds[:300]\n",
    "    val_pinds = pinds[-100:]\n",
    "    \n",
    "    X_tr = np.vstack((X_train[train_pinds], X_train[train_ninds]))\n",
    "    y_tr = np.append(y_train[train_pinds], y_train[train_ninds])\n",
    "    \n",
    "    X_va = np.vstack((X_train[val_pinds], X_train[val_ninds]))\n",
    "    y_va = np.append(y_train[val_pinds], y_train[val_ninds])\n",
    "    \n",
    "    tr_inds = list(range(X_tr.shape[0]))\n",
    "    np.random.shuffle(tr_inds)\n",
    "    \n",
    "    X_train = X_tr[tr_inds]\n",
    "    y_train = y_tr[tr_inds]\n",
    "    \n",
    "    va_inds = list(range(X_va.shape[0]))\n",
    "    np.random.shuffle(va_inds)\n",
    "    \n",
    "    X_val = X_va[va_inds]\n",
    "    y_val = y_va[va_inds]\n",
    "    \n",
    "    return X_train, y_train, X_val, y_val, X_test    \n",
    "\n",
    "def modify_dataset(X_train, y_train, X_val, y_val):\n",
    "    start_ind = 0\n",
    "    batch_size = 50\n",
    "    end_ind = start_ind + batch_size\n",
    "\n",
    "    y_val_na = y_val[:, np.newaxis]\n",
    "    y_val_na = np.append(y_val_na, 1-y_val_na, axis=1)\n",
    "    \n",
    "    clf = LinearRegression(copy_X=True)\n",
    "    clf.fit(X_train, y_train)\n",
    "    \n",
    "    best_error = clf.residues_\n",
    "    best_y_train = y_train\n",
    "    best_train_indices = list(range(X_train.shape[0]))\n",
    "\n",
    "    while end_ind <= X_train.shape[0]:\n",
    "        target_indices = range(start_ind, end_ind)\n",
    "        mods = produce_modifications(X_train, best_y_train, best_train_indices, target_indices, X_val, y_val_na)\n",
    "\n",
    "        test_results = list(map(test_modification, mods))\n",
    "        test_results.append((best_error, best_y_train, best_train_indices))\n",
    "        best_error, best_y_train, best_train_indices = min(test_results, key=lambda x: x[0])\n",
    "\n",
    "        print('Processed: {:5d} samples,\\tcurrent error is {:0.4f}'.format(end_ind, best_error))\n",
    "        start_ind += batch_size\n",
    "        end_ind += batch_size\n",
    "        \n",
    "    return X_train[best_train_indices], best_y_train[best_train_indices]"
   ]
  },
  {
   "cell_type": "code",
   "execution_count": 41,
   "metadata": {
    "collapsed": false
   },
   "outputs": [],
   "source": [
    "X_train = np.array(pd.read_csv('train.csv', header=None))\n",
    "y_train = np.array(pd.read_csv('trainlabels.csv', header=None)).ravel()\n",
    "X_test = np.array(pd.read_csv('test.csv', header=None))\n",
    "\n",
    "X_train, y_train, X_val, y_val, X_test = process_dataset(X_train, y_train, X_test)"
   ]
  },
  {
   "cell_type": "code",
   "execution_count": 42,
   "metadata": {
    "collapsed": false
   },
   "outputs": [
    {
     "name": "stdout",
     "output_type": "stream",
     "text": [
      "(800, 30)\n",
      "Processed:    50 samples,\tcurrent error is 74.8882\n",
      "Processed:   100 samples,\tcurrent error is 74.3868\n",
      "Processed:   150 samples,\tcurrent error is 74.0643\n",
      "Processed:   200 samples,\tcurrent error is 73.4349\n",
      "Processed:   250 samples,\tcurrent error is 72.9065\n",
      "Processed:   300 samples,\tcurrent error is 72.4502\n",
      "Processed:   350 samples,\tcurrent error is 68.9609\n",
      "Processed:   400 samples,\tcurrent error is 68.5031\n",
      "Processed:   450 samples,\tcurrent error is 67.9366\n",
      "Processed:   500 samples,\tcurrent error is 67.5156\n",
      "Processed:   550 samples,\tcurrent error is 66.9200\n",
      "Processed:   600 samples,\tcurrent error is 66.3581\n",
      "Processed:   650 samples,\tcurrent error is 65.7237\n",
      "Processed:   700 samples,\tcurrent error is 64.9064\n",
      "Processed:   750 samples,\tcurrent error is 64.2175\n",
      "Processed:   800 samples,\tcurrent error is 63.6037\n"
     ]
    }
   ],
   "source": [
    "with warnings.catch_warnings():\n",
    "    warnings.simplefilter(\"ignore\")\n",
    "    warnings.warn(\"deprecated\", DeprecationWarning)\n",
    "    X, y = modify_dataset(X_train, y_train, X_val, y_val)"
   ]
  },
  {
   "cell_type": "markdown",
   "metadata": {},
   "source": [
    "X: uncorrelated X_train: 0.74\n",
    "X2: top 50 mi values of X: 0.81\n",
    "X3: top 30 mi values of X: 0.87\n",
    "X4: top 20 mi values of X: 0.80\n",
    "X3: mi values of X_train"
   ]
  },
  {
   "cell_type": "code",
   "execution_count": 44,
   "metadata": {
    "collapsed": false
   },
   "outputs": [],
   "source": [
    "X_va = np.vstack((X, X_val))\n",
    "y_va = np.append(y, y_val)\n",
    "\n",
    "svm = SVC(class_weight='balanced', cache_size=1000)\n",
    "auc = make_scorer(roc_auc_score, greater_is_better=True, needs_treshold=True)\n",
    "svm.fit(X, y)\n",
    "clf = svm"
   ]
  },
  {
   "cell_type": "code",
   "execution_count": 22,
   "metadata": {
    "collapsed": false
   },
   "outputs": [
    {
     "data": {
      "text/plain": [
       "array([-6.74147731, -9.08298884, -5.77983652, ..., -6.18960352,\n",
       "       -4.88588154, -2.24850981])"
      ]
     },
     "execution_count": 22,
     "metadata": {},
     "output_type": "execute_result"
    }
   ],
   "source": [
    "#probs = svm.predict_log_proba(X_test[:,minds])[:,1]\n",
    "#roc_auc_score(y_val, probs)\n",
    "probs"
   ]
  },
  {
   "cell_type": "code",
   "execution_count": 45,
   "metadata": {
    "collapsed": false,
    "scrolled": true
   },
   "outputs": [],
   "source": [
    "preds = clf.decision_function(X_test)\n",
    "preds = pd.DataFrame(preds)\n",
    "preds.index += 1\n",
    "preds.to_csv('out.csv', index_label='Id', header=['Prediction'])"
   ]
  }
 ],
 "metadata": {
  "anaconda-cloud": {},
  "kernelspec": {
   "display_name": "Python [default]",
   "language": "python",
   "name": "python3"
  },
  "language_info": {
   "codemirror_mode": {
    "name": "ipython",
    "version": 3
   },
   "file_extension": ".py",
   "mimetype": "text/x-python",
   "name": "python",
   "nbconvert_exporter": "python",
   "pygments_lexer": "ipython3",
   "version": "3.5.2"
  }
 },
 "nbformat": 4,
 "nbformat_minor": 1
}
