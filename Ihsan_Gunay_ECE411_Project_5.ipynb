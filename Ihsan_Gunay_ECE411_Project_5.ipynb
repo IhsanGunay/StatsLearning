{
 "cells": [
  {
   "cell_type": "code",
   "execution_count": 1,
   "metadata": {
    "collapsed": true
   },
   "outputs": [],
   "source": [
    "import pandas as pd\n",
    "import numpy as np\n",
    "import matplotlib.pyplot as plt\n",
    "%matplotlib inline"
   ]
  },
  {
   "cell_type": "code",
   "execution_count": 2,
   "metadata": {
    "collapsed": false,
    "scrolled": true
   },
   "outputs": [],
   "source": [
    "ratings = pd.read_csv('ratings.csv', header=None)\n",
    "ratings = ratings.pivot(index=0, columns=1, values=2)\n",
    "ratings.columns = np.arange(ratings.shape[1])\n",
    "ratings.index = np.arange(ratings.shape[0])\n",
    "\n",
    "W = ratings.copy()\n",
    "W[pd.notnull(W)] = 1\n",
    "W[pd.isnull(W)] = 0\n",
    "\n",
    "W = W.values\n",
    "R = ratings.fillna(0).values"
   ]
  },
  {
   "cell_type": "code",
   "execution_count": 3,
   "metadata": {
    "collapsed": false
   },
   "outputs": [],
   "source": [
    "lambda_ = 0.1\n",
    "n_factors = 3\n",
    "m, n = R.shape\n",
    "n_iterations = 100\n",
    "\n",
    "X = 5 * np.random.rand(m, n_factors) \n",
    "Y = 5 * np.random.rand(n_factors, n)"
   ]
  },
  {
   "cell_type": "code",
   "execution_count": 4,
   "metadata": {
    "collapsed": false,
    "scrolled": true
   },
   "outputs": [
    {
     "name": "stdout",
     "output_type": "stream",
     "text": [
      "Iteration: 0, Error: 6528451.671767578\n",
      "Iteration: 1, Error: 5615594.302672017\n",
      "Iteration: 2, Error: 5483793.724825169\n",
      "Iteration: 3, Error: 5443174.8097390095\n",
      "Iteration: 4, Error: 5430055.526984123\n",
      "Iteration: 5, Error: 5424491.301592875\n",
      "Iteration: 6, Error: 5421130.723090361\n",
      "Iteration: 7, Error: 5418522.098432356\n",
      "Iteration: 8, Error: 5416236.67049545\n",
      "Iteration: 9, Error: 5414138.346003991\n",
      "Iteration: 10, Error: 5412180.503075388\n",
      "Iteration: 11, Error: 5410344.374972228\n",
      "Iteration: 12, Error: 5408619.597882648\n",
      "Iteration: 13, Error: 5406998.16588049\n",
      "Iteration: 14, Error: 5405472.727349412\n",
      "Iteration: 15, Error: 5404036.235490541\n",
      "Iteration: 16, Error: 5402681.966773152\n",
      "Iteration: 17, Error: 5401403.598195294\n",
      "Iteration: 18, Error: 5400195.260971751\n",
      "Iteration: 19, Error: 5399051.559719953\n",
      "Iteration: 20, Error: 5397967.565064366\n",
      "Iteration: 21, Error: 5396938.7897786815\n",
      "Iteration: 22, Error: 5395961.156406311\n",
      "Iteration: 23, Error: 5395030.961650791\n",
      "Iteration: 24, Error: 5394144.840737376\n",
      "Iteration: 25, Error: 5393299.733514534\n",
      "Iteration: 26, Error: 5392492.853158546\n",
      "Iteration: 27, Error: 5391721.657800031\n",
      "Iteration: 28, Error: 5390983.825083292\n",
      "Iteration: 29, Error: 5390277.229504493\n",
      "Iteration: 30, Error: 5389599.922299734\n",
      "Iteration: 31, Error: 5388950.113626297\n",
      "Iteration: 32, Error: 5388326.156782173\n",
      "Iteration: 33, Error: 5387726.534224654\n",
      "Iteration: 34, Error: 5387149.845169383\n",
      "Iteration: 35, Error: 5386594.794575877\n",
      "Iteration: 36, Error: 5386060.183348123\n",
      "Iteration: 37, Error: 5385544.89960062\n",
      "Iteration: 38, Error: 5385047.910859063\n",
      "Iteration: 39, Error: 5384568.2570827715\n",
      "Iteration: 40, Error: 5384105.04440979\n",
      "Iteration: 41, Error: 5383657.439539894\n",
      "Iteration: 42, Error: 5383224.664680607\n",
      "Iteration: 43, Error: 5382805.992991713\n",
      "Iteration: 44, Error: 5382400.744471724\n",
      "Iteration: 45, Error: 5382008.282237459\n",
      "Iteration: 46, Error: 5381628.009153009\n",
      "Iteration: 47, Error: 5381259.364770892\n",
      "Iteration: 48, Error: 5380901.82255157\n",
      "Iteration: 49, Error: 5380554.887332824\n",
      "Iteration: 50, Error: 5380218.093022632\n",
      "Iteration: 51, Error: 5379891.000492935\n",
      "Iteration: 52, Error: 5379573.195654464\n",
      "Iteration: 53, Error: 5379264.287694062\n",
      "Iteration: 54, Error: 5378963.907459489\n",
      "Iteration: 55, Error: 5378671.705976734\n",
      "Iteration: 56, Error: 5378387.3530879365\n",
      "Iteration: 57, Error: 5378110.536198058\n",
      "Iteration: 58, Error: 5377840.959120813\n",
      "Iteration: 59, Error: 5377578.341014331\n",
      "Iteration: 60, Error: 5377322.41539885\n",
      "Iteration: 61, Error: 5377072.929248949\n",
      "Iteration: 62, Error: 5376829.642153877\n",
      "Iteration: 63, Error: 5376592.325540121\n",
      "Iteration: 64, Error: 5376360.76195067\n",
      "Iteration: 65, Error: 5376134.744376635\n",
      "Iteration: 66, Error: 5375914.075636332\n",
      "Iteration: 67, Error: 5375698.567798274\n",
      "Iteration: 68, Error: 5375488.041644418\n",
      "Iteration: 69, Error: 5375282.326170333\n",
      "Iteration: 70, Error: 5375081.258119538\n",
      "Iteration: 71, Error: 5374884.681549015\n",
      "Iteration: 72, Error: 5374692.447423845\n",
      "Iteration: 73, Error: 5374504.413238365\n",
      "Iteration: 74, Error: 5374320.442662221\n",
      "Iteration: 75, Error: 5374140.405209074\n",
      "Iteration: 76, Error: 5373964.175926344\n",
      "Iteration: 77, Error: 5373791.635104884\n",
      "Iteration: 78, Error: 5373622.668006254\n",
      "Iteration: 79, Error: 5373457.164607249\n",
      "Iteration: 80, Error: 5373295.01936003\n",
      "Iteration: 81, Error: 5373136.130966402\n",
      "Iteration: 82, Error: 5372980.402166073\n",
      "Iteration: 83, Error: 5372827.739537142\n",
      "Iteration: 84, Error: 5372678.053308514\n",
      "Iteration: 85, Error: 5372531.257183031\n",
      "Iteration: 86, Error: 5372387.268170993\n",
      "Iteration: 87, Error: 5372246.006433012\n",
      "Iteration: 88, Error: 5372107.395131815\n",
      "Iteration: 89, Error: 5371971.360292382\n",
      "Iteration: 90, Error: 5371837.830669731\n",
      "Iteration: 91, Error: 5371706.737624041\n",
      "Iteration: 92, Error: 5371578.015002576\n",
      "Iteration: 93, Error: 5371451.599027946\n",
      "Iteration: 94, Error: 5371327.428192403\n",
      "Iteration: 95, Error: 5371205.443157634\n",
      "Iteration: 96, Error: 5371085.586659864\n",
      "Iteration: 97, Error: 5370967.803420003\n",
      "Iteration: 98, Error: 5370852.040058277\n",
      "Iteration: 99, Error: 5370738.245013275\n"
     ]
    }
   ],
   "source": [
    "errors = []\n",
    "for i in range(n_iterations):\n",
    "    X = np.linalg.solve(np.dot(Y, Y.T) + lambda_ * np.eye(n_factors), np.dot(Y, R.T)).T\n",
    "    Y = np.linalg.solve(np.dot(X.T, X) + lambda_ * np.eye(n_factors), np.dot(X.T, R))\n",
    "    \n",
    "    R_est = np.dot(X, Y)\n",
    "    error = np.sum((W*(R - R_est)) ** 2)\n",
    "    errors.append(error)\n",
    "    \n",
    "    print('Iteration: {}, Error: {}'.format(i, error))"
   ]
  },
  {
   "cell_type": "code",
   "execution_count": 5,
   "metadata": {
    "collapsed": false
   },
   "outputs": [
    {
     "data": {
      "text/plain": [
       "[<matplotlib.lines.Line2D at 0x7f92728da518>]"
      ]
     },
     "execution_count": 5,
     "metadata": {},
     "output_type": "execute_result"
    },
    {
     "data": {
      "image/png": "[encoded data removed]",
      "text/plain": [
       "<matplotlib.figure.Figure at 0x7f927802af60>"
      ]
     },
     "metadata": {},
     "output_type": "display_data"
    }
   ],
   "source": [
    "plt.plot(errors)"
   ]
  }
 ],
 "metadata": {
  "kernelspec": {
   "display_name": "Python 3",
   "language": "python",
   "name": "python3"
  },
  "language_info": {
   "codemirror_mode": {
    "name": "ipython",
    "version": 3
   },
   "file_extension": ".py",
   "mimetype": "text/x-python",
   "name": "python",
   "nbconvert_exporter": "python",
   "pygments_lexer": "ipython3",
   "version": "3.5.2"
  }
 },
 "nbformat": 4,
 "nbformat_minor": 1
}
